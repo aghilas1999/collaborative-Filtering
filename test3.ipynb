{
 "cells": [
  {
   "cell_type": "code",
   "execution_count": 1,
   "metadata": {},
   "outputs": [],
   "source": [
    "import pandas as pd"
   ]
  },
  {
   "cell_type": "code",
   "execution_count": 2,
   "metadata": {},
   "outputs": [],
   "source": [
    "movies = pd.read_csv('movies.csv')\n",
    "ratings = pd.read_csv('ratings.csv')\n",
    "\n",
    "# Fusionner les données des films et des évaluations\n",
    "movie_ratings = pd.merge(ratings, movies, on='movieId')\n",
    "\n",
    "# Créer une matrice utilisateur-film où les lignes sont les utilisateurs, les colonnes sont les films, et les valeurs sont les notations\n",
    "user_movie_matrix = movie_ratings.pivot_table(index='userId', columns='movieId', values='rating')\n",
    "\n",
    "# Remplacer les valeurs manquantes par 0\n",
    "user_movie_matrix = user_movie_matrix.fillna(0)\n",
    "\n",
    "# Calculer la similarité entre utilisateurs basée sur la corrélation de Pearson\n",
    "user_similarity = user_movie_matrix.corr(method='pearson', min_periods=5)"
   ]
  },
  {
   "cell_type": "code",
   "execution_count": 3,
   "metadata": {},
   "outputs": [],
   "source": [
    "def get_user_recommendations(user_id):\n",
    "    # Obtenir les notations de l'utilisateur donné\n",
    "    user_ratings = user_movie_matrix.loc[user_id]\n",
    "    \n",
    "    # Filtrer les films déjà notés par l'utilisateur\n",
    "    unrated_movies = user_ratings[user_ratings.isnull()]\n",
    "    \n",
    "    # Calculer les recommandations en utilisant la corrélation de Pearson\n",
    "    user_corr = user_similarity[user_id]  # Corrélations de l'utilisateur avec les autres utilisateurs\n",
    "    recommended_movies = user_movie_matrix.apply(lambda row: row * user_corr)  # Poids basés sur la corrélation\n",
    "    recommended_movies = recommended_movies.sum(axis=1)  # Somme pondérée des notations\n",
    "    \n",
    "    # Trier les films recommandés par note moyenne\n",
    "    top_recommendations = recommended_movies.sort_values(ascending=False)\n",
    "    \n",
    "    # Exclure les films déjà notés par l'utilisateur\n",
    "    top_recommendations = top_recommendations[~top_recommendations.index.isin(user_ratings.dropna().index)]\n",
    "    \n",
    "    # Obtenir les 10 meilleurs films recommandés\n",
    "    top_10_movies = top_recommendations.head(10)\n",
    "    \n",
    "    # Obtenir les titres des films recommandés à partir du DataFrame 'movies'\n",
    "    recommended_movie_titles = movies.loc[top_10_movies.index]['title']\n",
    "    \n",
    "    return recommended_movie_titles"
   ]
  },
  {
   "cell_type": "code",
   "execution_count": 12,
   "metadata": {},
   "outputs": [
    {
     "name": "stdout",
     "output_type": "stream",
     "text": [
      "Les 10 meilleurs films recommandés avec titres pour l'utilisateur avec l'ID 504 :\n",
      "607                          Striptease (1996)\n",
      "559                           Space Jam (1996)\n",
      "576                    Mulholland Falls (1996)\n",
      "561    Some Folks Call It a Sling Blade (1993)\n",
      "565                Operation Dumbo Drop (1995)\n",
      "566                   Mrs. Winterbourne (1996)\n",
      "570                   Feeling Minnesota (1996)\n",
      "571                      Delta of Venus (1995)\n",
      "572                               Angus (1995)\n",
      "578                    Oliver & Company (1988)\n",
      "Name: title, dtype: object\n"
     ]
    }
   ],
   "source": [
    "user_id = 504\n",
    "recommendations_with_titles = get_user_recommendations(user_id)\n",
    "print(\"Les 10 meilleurs films recommandés avec titres pour l'utilisateur avec l'ID\", user_id, \":\")\n",
    "print(recommendations_with_titles)"
   ]
  }
 ],
 "metadata": {
  "kernelspec": {
   "display_name": "Tp1",
   "language": "python",
   "name": "python3"
  },
  "language_info": {
   "codemirror_mode": {
    "name": "ipython",
    "version": 3
   },
   "file_extension": ".py",
   "mimetype": "text/x-python",
   "name": "python",
   "nbconvert_exporter": "python",
   "pygments_lexer": "ipython3",
   "version": "3.10.13"
  }
 },
 "nbformat": 4,
 "nbformat_minor": 2
}
