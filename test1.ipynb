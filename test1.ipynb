{
 "cells": [
  {
   "cell_type": "code",
   "execution_count": 1,
   "metadata": {},
   "outputs": [
    {
     "name": "stderr",
     "output_type": "stream",
     "text": [
      "c:\\Users\\aghil\\anaconda3\\envs\\Tp1\\lib\\site-packages\\fuzzywuzzy\\fuzz.py:11: UserWarning: Using slow pure-python SequenceMatcher. Install python-Levenshtein to remove this warning\n",
      "  warnings.warn('Using slow pure-python SequenceMatcher. Install python-Levenshtein to remove this warning')\n"
     ]
    }
   ],
   "source": [
    "import os\n",
    "import time\n",
    "import gc\n",
    "import argparse\n",
    "\n",
    "# Data science imports\n",
    "import pandas as pd\n",
    "from sklearn.metrics import pairwise_distances\n",
    "from scipy.spatial.distance import cosine\n",
    "\n",
    "# Utils import\n",
    "from fuzzywuzzy import fuzz"
   ]
  },
  {
   "cell_type": "code",
   "execution_count": 2,
   "metadata": {},
   "outputs": [
    {
     "name": "stdout",
     "output_type": "stream",
     "text": [
      "Collecting fuzzywuzzy\n",
      "  Using cached fuzzywuzzy-0.18.0-py2.py3-none-any.whl (18 kB)\n",
      "Installing collected packages: fuzzywuzzy\n",
      "Successfully installed fuzzywuzzy-0.18.0\n",
      "Note: you may need to restart the kernel to use updated packages.\n"
     ]
    }
   ],
   "source": [
    "pip install fuzzywuzzy\n"
   ]
  },
  {
   "cell_type": "code",
   "execution_count": 4,
   "metadata": {},
   "outputs": [],
   "source": [
    "path_movies = 'movies.csv'\n",
    "path_ratings = 'ratings.csv'"
   ]
  },
  {
   "cell_type": "code",
   "execution_count": 5,
   "metadata": {},
   "outputs": [],
   "source": [
    "def __init__(self, path_movies, path_ratings):\n",
    "        self.path_movies = path_movies\n",
    "        self.path_ratings = path_ratings\n",
    "        self.movie_rating_thres = 0\n",
    "        self.user_rating_thres = 0"
   ]
  },
  {
   "cell_type": "code",
   "execution_count": 6,
   "metadata": {},
   "outputs": [],
   "source": [
    "def set_filter_params(self, movie_rating_thres, user_rating_thres):\n",
    "        self.movie_rating_thres = movie_rating_thres\n",
    "        self.user_rating_thres = user_rating_thres"
   ]
  },
  {
   "cell_type": "code",
   "execution_count": 40,
   "metadata": {},
   "outputs": [
    {
     "data": {
      "text/plain": [
       "(   movieId                               title\n",
       " 0        1                    Toy Story (1995)\n",
       " 1        2                      Jumanji (1995)\n",
       " 2        3             Grumpier Old Men (1995)\n",
       " 3        4            Waiting to Exhale (1995)\n",
       " 4        5  Father of the Bride Part II (1995),\n",
       "    userId  movieId  rating\n",
       " 0       1        1     4.0\n",
       " 1       1        3     4.0\n",
       " 2       1        6     4.0\n",
       " 3       1       47     5.0\n",
       " 4       1       50     5.0)"
      ]
     },
     "execution_count": 40,
     "metadata": {},
     "output_type": "execute_result"
    }
   ],
   "source": [
    "# Read data\n",
    "df_movies = pd.read_csv(os.path.join(path_movies),\n",
    "                        usecols=['movieId', 'title'],\n",
    "                        dtype={'movieId': 'int32', 'title': 'str'})\n",
    "df_ratings = pd.read_csv(os.path.join(path_ratings),\n",
    "                        usecols=['userId', 'movieId', 'rating'],\n",
    "                        dtype={'userId': 'int32', 'movieId': 'int32', 'rating': 'float32'})\n",
    "\n",
    "df_movies.head(5) , df_ratings.head(5)"
   ]
  },
  {
   "cell_type": "code",
   "execution_count": 21,
   "metadata": {},
   "outputs": [
    {
     "data": {
      "text/plain": [
       "<function __main__._prep_data(self)>"
      ]
     },
     "execution_count": 21,
     "metadata": {},
     "output_type": "execute_result"
    }
   ],
   "source": [
    "_prep_data"
   ]
  }
 ],
 "metadata": {
  "kernelspec": {
   "display_name": "Tp_Zhamer",
   "language": "python",
   "name": "python3"
  },
  "language_info": {
   "codemirror_mode": {
    "name": "ipython",
    "version": 3
   },
   "file_extension": ".py",
   "mimetype": "text/x-python",
   "name": "python",
   "nbconvert_exporter": "python",
   "pygments_lexer": "ipython3",
   "version": "3.10.13"
  }
 },
 "nbformat": 4,
 "nbformat_minor": 2
}
